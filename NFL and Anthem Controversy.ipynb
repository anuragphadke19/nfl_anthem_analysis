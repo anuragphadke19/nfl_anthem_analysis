{
 "cells": [
  {
   "cell_type": "markdown",
   "metadata": {},
   "source": [
    "# How has the National Anthem controversy affected NFL?"
   ]
  },
  {
   "cell_type": "markdown",
   "metadata": {},
   "source": [
    "There has been a lot of news lately about how the national anthem controversy may be the beginning of the end for NFL. That the american love affair with the game might finally be on the decline. NFL has been dealing with its share of controversies for a long time, for eg. around head injuries, player behaviour etc. But the national anthem controversy is being described as that proverbial \"final nail\" in the coffin for NFL. I want to test this theory with data."
   ]
  },
  {
   "cell_type": "markdown",
   "metadata": {},
   "source": [
    "First thing to decide - epoch. What should be the definitive time when the controvery started. Should it be all the way back when Colin Kapernick started it all? Or should it be the game when a small majority of players first knelt during the anthem at the beginning of the season this year? Or should it be the POTUS's swarm of tweets on this topic that blew this thing wide open? The tweetstorm from Mr Trump comes with a lot of baggage of its own and I think isn't a good candidate. Depending on Colin Kapernick might be too small of a trigger. It could be used to further test the hypothesis though. \n",
    "\n",
    "For current purposes the epoch will be the first regular season game of 2016, which, according to [wikipedia](https://en.wikipedia.org/wiki/U.S._national_anthem_protests_(2016%E2%80%93present)), was when 11 players across teams joined Kapernick in his protests for the first time.\n",
    "\n",
    "Sources of data - \n",
    "- [Stadium attendance](https://www.pro-football-reference.com/years/)\n",
    "- TV audience\n",
    "- Fan affiliation demographics - This could be used to give some color to the analysis\n",
    "- Twitter data on the topic"
   ]
  },
  {
   "cell_type": "markdown",
   "metadata": {
    "collapsed": true
   },
   "source": [
    "The stadium attendance data is split by year. It first needs to be merged into a single source file for further analysis. The question now is how should the data be represented. Currently, the observation is attendance by team names and the attributes are the weeks in an NFL season. As per tidy principles I will add a column for year and week as those are the attributes. I will then merge the individual csv's in to a single dataframe. "
   ]
  },
  {
   "cell_type": "code",
   "execution_count": null,
   "metadata": {
    "collapsed": true
   },
   "outputs": [],
   "source": []
  }
 ],
 "metadata": {
  "kernelspec": {
   "display_name": "Python 3",
   "language": "python",
   "name": "python3"
  },
  "language_info": {
   "codemirror_mode": {
    "name": "ipython",
    "version": 3
   },
   "file_extension": ".py",
   "mimetype": "text/x-python",
   "name": "python",
   "nbconvert_exporter": "python",
   "pygments_lexer": "ipython3",
   "version": "3.6.1"
  }
 },
 "nbformat": 4,
 "nbformat_minor": 2
}
